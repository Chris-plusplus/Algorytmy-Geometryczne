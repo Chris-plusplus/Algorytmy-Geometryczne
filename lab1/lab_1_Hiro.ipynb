{
 "cells": [
  {
   "attachments": {},
   "cell_type": "markdown",
   "metadata": {},
   "source": [
    "# Podstawowe predykaty geometryczne, przeprowadzanie testów, wizualizacja i opracowanie wyników"
   ]
  },
  {
   "cell_type": "code",
   "execution_count": null,
   "metadata": {},
   "outputs": [],
   "source": [
    "import numpy as np\n",
    "import pandas as pd\n",
    "from bitalg.tests.test1 import Test\n",
    "from bitalg.visualizer.main import Visualizer"
   ]
  },
  {
   "attachments": {},
   "cell_type": "markdown",
   "metadata": {},
   "source": [
    "# Losowe punkty na płaszczyźnie\n",
    "\n",
    "Liczy losowe reprezentowane przez podstawowe bibloteki programistyczne, jak wiemy, nie są do końca losowe. Stoi za nimi algorytm, który pozwala w dużym podobieństwie imitować liczby losowe. W tym ćwiczeniu chcemy się dowiedzieć, czy nie oszukują nas z pseudolosowością liczb dla różnych zakresów przedziału. Jak rozkładają się liczby w zależności od ilości.\n",
    "\n",
    "---\n",
    "\n",
    "<span style=\"color:red\">Ćw.</span> Wygeneruj $10^5$ losowych punktów w przestrzeni 2D o współrzędnych z przedziału $x \\in \\langle -1000,1000 \\rangle$ oraz $y \\in \\langle -1000,1000 \\rangle$. Uzupełnij funkcję ```generate_small_num_of_points_2D```. Zwróć uwagę na rozmieszczenie punktów na płaszczyźnie."
   ]
  },
  {
   "cell_type": "code",
   "execution_count": 12,
   "metadata": {},
   "outputs": [],
   "source": [
    "def generate_small_num_of_points_2D(x_range : tuple = (-1000, 1000), y_range : tuple = (-1000, 1000), samples : int = 10**5) -> ...:\n",
    "    '''\n",
    "    Generowanie punktów w zadanych przedziałach \n",
    "    \n",
    "    Args:\n",
    "        x_range: zakres liczb pojawiający się na\n",
    "                 x-owej osi\n",
    "        y_range: zakres liczb pojawiający się na\n",
    "                 y-owej osi\n",
    "        samples: ilość punktów, która ma zostać wygenerowana\n",
    "\n",
    "    Returns:\n",
    "        Losowe punkty znajdujące się w danych przedziałach\n",
    "    '''\n",
    "    raise Exception('Unimplemented')\n",
    "    \n",
    "\n",
    "    # random_points = ???\n",
    "\n",
    "    return random_points"
   ]
  },
  {
   "cell_type": "code",
   "execution_count": null,
   "metadata": {},
   "outputs": [],
   "source": [
    "points_a = generate_small_num_of_points_2D()\n",
    "\n",
    "# WIZUALIZACJA"
   ]
  },
  {
   "attachments": {},
   "cell_type": "markdown",
   "metadata": {},
   "source": [
    "<span style=\"color:red\">Ćw.</span> Wygeneruj $10^5$ losowych punktów w przestrzeni 2D o współrzędnych z przedziału $x \\in \\langle -10^{14},10^{14} \\rangle$ oraz $y \\in \\langle -10^{14},10^{14} \\rangle$. Uzupełnij funkcję ```generate_big_num_of_points_2D```. Sprawdź, czy różni się wizualizalnie wynik tego ćwiczenia z poprzednim."
   ]
  },
  {
   "cell_type": "code",
   "execution_count": null,
   "metadata": {},
   "outputs": [],
   "source": [
    "def generate_big_num_of_points_2D(x_range : tuple = (-10**14, 10**14), y_range : tuple = (-10**14, 10**14), samples : int = 10**5) -> ...:\n",
    "    '''\n",
    "    Generowanie punktów w zadanych przedziałach \n",
    "    \n",
    "    Args:\n",
    "        x_range: zakres liczb pojawiający się na\n",
    "                 x-owej osi\n",
    "        y_range: zakres liczb pojawiający się na\n",
    "                 y-owej osi\n",
    "        samples: ilość punktów, która ma zostać wygenerowana\n",
    "\n",
    "    Returns:\n",
    "        Losowe punkty znajdujące się w danych przedziałach\n",
    "    '''\n",
    "    raise Exception('Unimplemented')\n",
    "\n",
    "    # random_points = ???\n",
    "\n",
    "    return random_points "
   ]
  },
  {
   "cell_type": "code",
   "execution_count": null,
   "metadata": {},
   "outputs": [],
   "source": [
    "points_b = generate_big_num_of_points_2D()\n",
    "\n",
    "# WIZUALIZACJA"
   ]
  },
  {
   "attachments": {},
   "cell_type": "markdown",
   "metadata": {},
   "source": [
    "Czas na okrąg. Jest wiele sposobów generowania punktów na okręgu - matematyka na wiele pozwala. Jak wiemy z wykładu, krzywa - która w naszym przypadku jest okręgiem - może mieć różne parametryzacje. Wybierzmy tą, która zachowuje swoją prędkość stałą. \n",
    "$$\\large\n",
    "C(t) = (\\cos\\frac{\\pi}{2}t, \\sin\\frac{\\pi}{2}t), t \\in \\langle 0, 1 \\rangle\n",
    "$$\n",
    "Jest to wzór który dla każdego podziału $t$ zachowuje równomierny odstęp między punktami na ćwiartce okręgu. Prędkość dla tej parametryzacji wynosi $v(t) = \\frac{\\pi}{2}$.  \n",
    "\n",
    "---\n",
    "\n",
    "<span style=\"color:red\">Ćw.</span> Wygeneruj $1000$ losowych punktów w przestrzeni 2D leżących na okręgu o środku $O = (0,0)$ i promieniu $R = 100$. Uzupełnij funkcję ```generate_points_on_circle_2D```."
   ]
  },
  {
   "cell_type": "code",
   "execution_count": null,
   "metadata": {},
   "outputs": [],
   "source": [
    "def generate_points_on_circle_2D(O:tuple = (0, 0), radius:(int|float) = 100, samples:int = 1000) -> ...:\n",
    "    '''\n",
    "    Generowanie punktów leżących na okręgu \n",
    "    \n",
    "    Args:\n",
    "        O:       środek okręgu\n",
    "        radius:  promień okręgu\n",
    "        samples: ilość punktów, która ma zostać wygenerowana\n",
    "\n",
    "    Returns:\n",
    "        Losowe punkty znajdujące się na okręgu \n",
    "        o punkcie O i promieniu radius\n",
    "    '''\n",
    "    raise Exception('Unimplemented')\n",
    "\n",
    "    # t = ???\n",
    "    # random_points = ???\n",
    "    \n",
    "    \n",
    "    return random_points"
   ]
  },
  {
   "cell_type": "code",
   "execution_count": 1,
   "metadata": {},
   "outputs": [],
   "source": [
    "points_c = generate_points_on_circle_2D()\n",
    "\n",
    "# WIZUALIZACJA"
   ]
  },
  {
   "attachments": {},
   "cell_type": "markdown",
   "metadata": {},
   "source": [
    "<span style=\"color:red\">Ćw.</span>  Wygeneruj $1000$ losowych punktów w przestrzeni 2D o współrzędnej z przedziału $x \\in \\langle -1000,1000 \\rangle$ leżących na prostej wyznaczonej przez wektor $\\overrightarrow{ab}$. Przyjmij punkty $a = (-1.0, 0.0)$ oraz $b = (1.0, 0.1)$. Uzupełnij funkcję ```generate_points_on_line_2D```."
   ]
  },
  {
   "cell_type": "code",
   "execution_count": null,
   "metadata": {},
   "outputs": [],
   "source": [
    "def generate_points_on_line_2D(x_range:tuple = (-1000, 1000), a:tuple = (-1.0, 0.0), b:tuple = (1.0, 0.1), samples:int = 1000) -> ...:\n",
    "    '''\n",
    "    Generowanie punktów leżących na zadanej prostej \n",
    "    \n",
    "    Args:\n",
    "        x_range: zakres w jakim liczby mają się pojawiać\n",
    "        a:       początek wektora (punkt znajdujący się na prostej)\n",
    "        b:       koniec wektora (punkt znajdujący się na prostej)\n",
    "        samples: ilość punktów, która ma zostać wygenerowana\n",
    "               \n",
    "    Returns:\n",
    "        Losowe punkty znajdujące się na prostej\n",
    "    '''\n",
    "    raise Exception('Unimplemented')\n",
    "\n",
    "    # random_points = ???\n",
    "\n",
    "    return random_points"
   ]
  },
  {
   "cell_type": "code",
   "execution_count": null,
   "metadata": {},
   "outputs": [],
   "source": [
    "points_d = generate_points_on_line_2D()\n",
    "\n",
    "# WIZUALIZACJA"
   ]
  },
  {
   "attachments": {},
   "cell_type": "markdown",
   "metadata": {},
   "source": [
    "# Po której stornie prostej znajduje się punkt?\n",
    "\n",
    "Prostym sposobem do obliczenia, po której strnie prostej znajduje się punkt jest obliczenie iloczynu wektorowego \n",
    "$\\overrightarrow{AB} \\times \\overrightarrow{AC}$,  \n",
    "gdzie $C = (x,y)$ jest punktem, dla którego poszukujemy wiadomości o lokalizacji względem prostej przechodzącej przez punkty $A$ i $B$. Metoda ta jest równoznaczna z obliczeniem wyznacznika macierzy $2\\times2$:  \n",
    "\n",
    "$$\\large\n",
    "(1)\\ det(A, B, C)= \\begin{vmatrix}\n",
    "       A_{x} - C_{x} & A_{y} - C_{y}\n",
    "       B_{x} - C_{x} & B_{y} - C_{y} \n",
    "              \\end{vmatrix}\n",
    "$$\n",
    "\n",
    "\n",
    "lub wyznacznika macierzy $3\\times3$:\n",
    "\n",
    "$$\\large\n",
    "(2)\\ det(A, B, C)= \\begin{vmatrix}\n",
    "       A_{x} & A_{y} & 1 \\\\[0.3em]\n",
    "       B_{x} & B_{y} & 1 \\\\[0.3em]\n",
    "       C_{x} & C_{y} & 1\n",
    "              \\end{vmatrix}\n",
    "$$\n",
    "\n",
    "Upraszczając tą macierz przez odjęcie drugiego wiersza od trzeciego i odjęcie pierwszego wiersza od drugiego otrzymamy:\n",
    "\n",
    "$$\\large\n",
    "det(A, B, C)  = \\begin{vmatrix}\n",
    "              A_{x}         & A_{y}         & 1 \\\\[0.3em]\n",
    "              B_{x} - A_{x} & B_{y} - A_{y} & 0 \\\\[0.3em]\n",
    "              C_{x} - B_{x} & C_{y} - B_{y} & 0\n",
    "                     \\end{vmatrix}\n",
    "              = (B_{x} - A_{x})(C_{y} - B_{y}) - (B_{y} - A_{y})(C_{x} - B_{x})\n",
    "$$\n",
    "\n",
    "Jest to wzór, z który opisuje pole równoległoboku mającego boki $AB$ oraz $AC$ (Dowód dlaczego tak jest, do zrobienia w domu)  \n",
    "Dlaczego wiemy, że po obliczeniu wskaźnika podanego powyżej będziemy wiedzieć, po której stornie prostej znajduje się punkt?\n",
    "\n",
    "---\n"
   ]
  },
  {
   "attachments": {},
   "cell_type": "markdown",
   "metadata": {},
   "source": [
    "**Dowód**:  \n",
    "\n",
    "Załóżmy, że mamy dane trzy punkty w przestrzeni 2-wymiarowej $A, B$ oraz $C$. Znajdujemy prostą przechodzącą przez punkty $A$ i $B$. Następnie obliczamy $C_{y}$ przy danym $C_{x}$ i sprawdzamy czy punkt leży nad czy pod prostą.\n",
    "Współczynnik nachylenia prostej jest nastepujący:\n",
    "\n",
    "$$\\large\n",
    "a = \\frac{B_{y} - A_{y}}{B_{x} - A_{x}}\n",
    "$$\n",
    "Natomiast współczynnik $b$ wynosi:\n",
    "\n",
    "$$\\large\n",
    "b = B_{y} - \\frac{(B_{y} - A_{y})B_{x}}{B_{x} - A_{x}}\n",
    "$$\n",
    "\n",
    "Po wpisaniu do równania $y = ax + b$ wyliczonego nachylenia prostej, współczynnika $b$ oraz zmiennej $C_{x}$ otrzymujemy:\n",
    "\n",
    "$$\\large\n",
    "y = (\\frac{B_{y} - A_{y}}{B_{x} - A_{x}})C_{x}+ (B_{y} - \\frac{(B_{y} - A_{y})B_{x}}{B_{x} - A_{x}})\n",
    "$$\n",
    "\n",
    "Otzymujemy punkt $C$ po lewej stronie prostej jeżeli $C_{y} - y > 0$, po prawej jeżeli $C_{y} - y < 0$, a punkt $C$ leżący na prostej, jeżeli $C_{y} - y = 0$. Przekształcimy powyższe równanie dla $C_{y} - y > 0$:\n",
    "\n",
    "$$\\large\n",
    "C_{y} - y > 0\\\\\n",
    "C_{y} - (\\frac{B_{y} - A_{y}}{B_{x} - A_{x}})C_{x} - (B_{y} - \\frac{(B_{y} - A_{y})B_{x}}{B_{x} - A_{x}}) > 0\\\\\n",
    "C_{y}(B_{x} - A_{x}) - C_{x}(B_{y} - A_{y}) - B_{y}(B_{x} - A_{x}) + B_{x}(B_{y} - A_{y}) > 0\\\\\n",
    "(C_{y} - B_{y})(B_{x} - A_{x}) + (B_{x} - C_{x})(B_{y} - A_{y}) > 0\\\\\n",
    "(C_{y} - B_{y})(B_{x} - A_{x}) - (C_{x} - B_{x})(B_{y} - A_{y}) > 0\n",
    "$$\n",
    "Zatem widzimy, że ostatnie równie jest takie same co przy równaniu wyznacznika macierzy $3\\times3$. Niejawnie założyliśmy tutaj, że $B_{x}$ jest wieksze od $A_{x}$ , jeżeli byłoby odwrotnie zmieniłby się tylko znak nierówności na przeciwny. W naszym przypadku pokazaliśmy, że $C$ znajduje się po lewej stronie prostej jeżeli wyznacznik jest dodatni oraz po prawej stronie prostej, jeżeli wyznacznik jest ujemny. $Q.E.D$"
   ]
  },
  {
   "attachments": {},
   "cell_type": "markdown",
   "metadata": {},
   "source": [
    "\n",
    "---\n",
    "\n",
    "Kolejnym zadaniem będzie zaimplementowanie własnych wyznaczników $(1)$ oraz $(2)$ i porówanie ich szybkości działania z wyznacznikami bibliotecznymi w testowaniu dla różnych zbiorów punktów. Co dodatkowo chcemy sprawdzić, czy wszystkie wyznaczniki podobnie kwalifikują podział względem danej lini."
   ]
  },
  {
   "attachments": {},
   "cell_type": "markdown",
   "metadata": {},
   "source": [
    "<span style=\"color:red\">Ćw.</span> Zaimplementuj funkcję ```det3x3``` obliczającą wyznacznik podany wzorem $(2)$"
   ]
  },
  {
   "cell_type": "code",
   "execution_count": null,
   "metadata": {},
   "outputs": [],
   "source": [
    "def det3x3(a, b, c):\n",
    "    '''\n",
    "    Obliczanie wyznacznika 3x3 własnej implementacji \n",
    "    \n",
    "    Args:\n",
    "        a: punkt\n",
    "        b: punkt\n",
    "        c: punkt, o którym chcemy się dowiedzieć,\n",
    "           po której stronie prostej przechodzącej\n",
    "           przez punkty ab znajduje się\n",
    "               \n",
    "    Returns:\n",
    "        Obliczony wyznacznik 3x3 dla punktów a, b oraz c\n",
    "    '''\n",
    "\n",
    "    raise Exception('Unimplemented')\n",
    "    \n",
    "    return ..."
   ]
  },
  {
   "attachments": {},
   "cell_type": "markdown",
   "metadata": {},
   "source": [
    "<span style=\"color:red\">Ćw.</span> Zaimplementuj funkcję ```det2x2``` obliczającą wyznacznik podany wzorem $(1)$"
   ]
  },
  {
   "cell_type": "code",
   "execution_count": null,
   "metadata": {},
   "outputs": [],
   "source": [
    "def det2x2(a, b, c):\n",
    "    '''\n",
    "    Obliczanie wyznacznika 2x2 własnej implementacji \n",
    "    \n",
    "    Args:\n",
    "        a: punkt\n",
    "        b: punkt\n",
    "        c: punkt, o którym chcemy się dowiedzieć,\n",
    "           po której stronie prostej przechodzącej\n",
    "           przez punkty ab znajduje się\n",
    "               \n",
    "    Returns:\n",
    "        Obliczony wyznacznik 2x2 dla punktów a, b oraz c\n",
    "    '''\n",
    "    \n",
    "    raise Exception('Unimplemented')\n",
    "    \n",
    "    return ..."
   ]
  },
  {
   "attachments": {},
   "cell_type": "markdown",
   "metadata": {},
   "source": [
    "Do obliczenia wyznacznika już zaimplementowanego jest wskazana biblioteka ```numpy``` ( dokładna funkcja do znalezienia w internecie :))  \n",
    "  \n",
    "<span style=\"color:red\">Ćw.</span> Zaimplementuj funkcję ```np_det3x3``` obliczającą wyznacznik, korzystając z funkcji bibliotecznej"
   ]
  },
  {
   "cell_type": "code",
   "execution_count": 3,
   "metadata": {},
   "outputs": [],
   "source": [
    "def np_det3x3(a, b, c):\n",
    "    '''\n",
    "    Obliczanie wyznacznika 3x3 korzystając z funkcji bibliotecznej \n",
    "    \n",
    "    Args:\n",
    "        a: punkt\n",
    "        b: punkt\n",
    "        c: punkt, o którym chcemy się dowiedzieć,\n",
    "           po której stronie prostej przechodzącej\n",
    "           przez punkty ab znajduje się\n",
    "               \n",
    "    Returns:\n",
    "        Obliczony wyznacznik 3x3 dla punktów a, b oraz c\n",
    "    '''\n",
    "    \n",
    "    raise Exception('Unimplemented')\n",
    "    \n",
    "    return ..."
   ]
  },
  {
   "attachments": {},
   "cell_type": "markdown",
   "metadata": {},
   "source": [
    "<span style=\"color:red\">Ćw.</span> Zaimplementuj funkcję ```np_det2x2``` obliczającą wyznacznik, korzystając z funkcji bibliotecznej"
   ]
  },
  {
   "cell_type": "code",
   "execution_count": null,
   "metadata": {},
   "outputs": [],
   "source": [
    "def np_det2x2(a, b, c):\n",
    "    '''\n",
    "    Oblicz wyznacznik 2x2 korzystając z funkcji bibliotecznej \n",
    "    \n",
    "    Args:\n",
    "        a: punkt\n",
    "        b: punkt\n",
    "        c: punkt, o którym chcemy się dowiedzieć,\n",
    "           po której stronie prostej przechodzącej\n",
    "           przez punkty ab znajduje się\n",
    "               \n",
    "    Returns:\n",
    "        Obliczony wyznacznik 2x2 dla punktów a, b oraz c\n",
    "    '''\n",
    "    \n",
    "    raise Exception('Unimplemented')\n",
    "    \n",
    "    return ..."
   ]
  },
  {
   "attachments": {},
   "cell_type": "markdown",
   "metadata": {},
   "source": [
    "Przygotujmy program, który dla każdego ze zbiorów punktów dokona podziału punktów względem ich orientacji w stosunku do odcinka $ab$, gdzie $a = (-1.0, 0.0)$ oraz $b = (1.0, 0.1)$ - które znajdują się po lewej, po prawej, czy na prostej $ab$ ?. W tym celu wykorzystamy wcześniej przygotowane funkcje do obliczania wyznaczników."
   ]
  },
  {
   "attachments": {},
   "cell_type": "markdown",
   "metadata": {},
   "source": [
    "Gdy porównujemy wyniki, nie możemy porównywać z dokładną wartością (np. gdy porównujemy czy dany punkt jest na lini - wyznacznik musi wyjść 0). W komputerze potrzebny nam jest zawsze jakiś błąd pomiarowy, z którym nasze wyniki będą się mieścić w rządanej wartości. Z tego powodu wprowadzamy $\\epsilon$ (epsilon), który będzie nam mówił jak bardzo nasz wyniki może być odchylony od właściwego wyniku. "
   ]
  },
  {
   "attachments": {},
   "cell_type": "markdown",
   "metadata": {},
   "source": [
    " Ostatnią przeszkodą na jaką natrafiamy to precyzja obliczeń. Biblioteka ```numpy``` gdy działa na liczbach zmiennoprzecinkowych używa podówjnej precyzji (Double-precision floating-point format : ```np.float64```), tak samo jak python. Chcemy również sprawdzić jak nasze wyniki zmienią się gdy zastosujemy artymetykę na liczbach zmiennoprzecinkowych pojedyńczej precyzji ( ```np.float32``` ).\n",
    "\n",
    " ---\n",
    "\n",
    " Zacznijmy od przygotowania $\\epsilon$"
   ]
  },
  {
   "cell_type": "code",
   "execution_count": 4,
   "metadata": {},
   "outputs": [],
   "source": [
    "# przydatne stałe\n",
    "DETS = (\"DET2X2\", \"NP_DET2X2\", \"DET3X3\", \"NP_DET3X3\")\n",
    "DET2X2 = 0\n",
    "NP_DET2X2 = 1\n",
    "DET3X3 = 2\n",
    "NP_DET3X3 = 3\n",
    "POSITIONS = (\"left\", \"right\", \"collinear\")\n",
    "\n",
    "EPSILONS = [...] # wpisz wartości, dla których chcesz zbadać tolerancję dla zera"
   ]
  },
  {
   "attachments": {},
   "cell_type": "markdown",
   "metadata": {},
   "source": [
    "<span style=\"color:red\">Ćw.</span> Klasyfikacja punktów względem prostej - zaimplementuj funkcję ```points_classification```, która skwalifukuje punkty względem prostej wyznacznonej przez wektor $\\overrightarrow{ab}$ (prosta przechodząca przez punkty $a$ oraz $b$). Zwróć uwagę, że masz do dyspozycji cztery wyznaczniki oraz tolerancję dla zera."
   ]
  },
  {
   "cell_type": "code",
   "execution_count": null,
   "metadata": {},
   "outputs": [],
   "source": [
    "def points_classification(points, a = (-1.0, 0.0), b = (1.0, 0.1)):\n",
    "    '''\n",
    "    Klasyfikacja punktów względem prostej przechodzącej przez punkty a i b,\n",
    "    dla różnych wyznaczników oraz tolerancji dla zera (epsilon) \n",
    "    \n",
    "    Args:\n",
    "        points: punkty do klasyfikacji (np. zbiór punktów I)\n",
    "        a:      pierwszy punkt należący do prostej\n",
    "        b:      drugi punkt należący do prostej \n",
    "               \n",
    "    Returns:\n",
    "        Punkty podzielone względem prostej dla wyznaczników \n",
    "        oraz zadanych tolerancji dla zera\n",
    "    '''\n",
    "    raise Exception(\"Unimplemented\")\n",
    "\n",
    "    return ..."
   ]
  },
  {
   "attachments": {},
   "cell_type": "markdown",
   "metadata": {},
   "source": [
    "<span style=\"color:red\">Ćw.</span>  Uzupełnij funkcję ```print_classification```, która ma wypisać ilość zakwalifikowanych punktów, swoją implementacją zwracanych punktów przez funkcję ```points_classification```."
   ]
  },
  {
   "cell_type": "code",
   "execution_count": null,
   "metadata": {},
   "outputs": [],
   "source": [
    "def print_classification(points, det):\n",
    "    '''\n",
    "    Pokazanie ilości punktów względem prostej dla okreslonego wyznacznika \n",
    "    \n",
    "    Args:\n",
    "        points: punkty, które zostały zkwalifikowane \n",
    "        det:    wyznacznik, dla którego odbywała\n",
    "                się kwalifikacja\n",
    "\n",
    "    '''\n",
    "\n",
    "    raise Exception(\"Unimplemented\")\n",
    "\n",
    "    print(\"Counter of points for |{}| determinant:\".format(DETS[det]))\n",
    "    \n",
    "    for i, epsilon in enumerate(EPSILONS):\n",
    "\n",
    "        print(\"\\tEpsilon: {:6} Left: {:4d} Right: {:4d} Collinear: {:4d}\".format(epsilon, ..., ..., ...))\n",
    "    \n"
   ]
  },
  {
   "attachments": {},
   "cell_type": "markdown",
   "metadata": {},
   "source": [
    "Kwalifikacja punktów dla zbioru danych"
   ]
  },
  {
   "cell_type": "code",
   "execution_count": null,
   "metadata": {},
   "outputs": [],
   "source": [
    "class_points_a = points_classification(points_a)"
   ]
  },
  {
   "cell_type": "code",
   "execution_count": null,
   "metadata": {},
   "outputs": [],
   "source": [
    "class_points_b = points_classification(points_b)"
   ]
  },
  {
   "cell_type": "code",
   "execution_count": null,
   "metadata": {},
   "outputs": [],
   "source": [
    "class_points_c = points_classification(points_c)"
   ]
  },
  {
   "cell_type": "code",
   "execution_count": null,
   "metadata": {},
   "outputs": [],
   "source": [
    "class_points_d = points_classification(points_d)"
   ]
  },
  {
   "attachments": {},
   "cell_type": "markdown",
   "metadata": {},
   "source": [
    "Ptrzedstawmy w postaci wykresów jak zostały zkwalifikowane punkty"
   ]
  },
  {
   "cell_type": "code",
   "execution_count": 5,
   "metadata": {},
   "outputs": [],
   "source": [
    "# TODO: gdzieś po drodze wizualizacja danych\n",
    "# TODO: dopisać funkcję do zamiana wyników na wykres (to jak wizualizacja dojdzie)"
   ]
  },
  {
   "attachments": {},
   "cell_type": "markdown",
   "metadata": {},
   "source": [
    "Zobaczmy i porównajmy jak reprezentują się wyniki dla różnych tolerancji i wyznaczników."
   ]
  },
  {
   "attachments": {},
   "cell_type": "markdown",
   "metadata": {},
   "source": [
    "Zestaw I punktów"
   ]
  },
  {
   "cell_type": "code",
   "execution_count": null,
   "metadata": {},
   "outputs": [],
   "source": [
    "for det in range(len(DETS)):\n",
    "    print_classification(class_points_a, det)"
   ]
  },
  {
   "attachments": {},
   "cell_type": "markdown",
   "metadata": {},
   "source": [
    "Zestaw II punktów"
   ]
  },
  {
   "cell_type": "code",
   "execution_count": null,
   "metadata": {},
   "outputs": [],
   "source": [
    "for det in range(len(DETS)):\n",
    "    print_classification(class_points_b, det)"
   ]
  },
  {
   "attachments": {},
   "cell_type": "markdown",
   "metadata": {},
   "source": [
    "Zestaw III punktów"
   ]
  },
  {
   "cell_type": "code",
   "execution_count": null,
   "metadata": {},
   "outputs": [],
   "source": [
    "for det in range(len(DETS)):\n",
    "    print_classification(class_points_c, det)"
   ]
  },
  {
   "attachments": {},
   "cell_type": "markdown",
   "metadata": {},
   "source": [
    "Zestaw IV punktów"
   ]
  },
  {
   "cell_type": "code",
   "execution_count": null,
   "metadata": {},
   "outputs": [],
   "source": [
    "for det in range(len(DETS)):\n",
    "    print_classification(class_points_d, det)"
   ]
  },
  {
   "attachments": {},
   "cell_type": "markdown",
   "metadata": {},
   "source": [
    "<span style=\"color:red\">Ćw.</span> Po zobaczeniu jak różnie są kwalifikowane punkty, zobaczmy jak bardzo różnią się między sobą wyznaczniki i tolerancje dla zera. Sprawdźmy ile różnych punktów występuje. Zaimplementuj funkcję ```different_points```, która wyszuka i znajdzie różnice w kwalifikowaniu punktów różnymi wyznacznikami dla danej tolerancji dla zera."
   ]
  },
  {
   "cell_type": "code",
   "execution_count": null,
   "metadata": {},
   "outputs": [],
   "source": [
    "def different_points(points, det1, det2, tolerance):\n",
    "    '''\n",
    "    Obliczanie, które punkty zostały skwalifikowane inaczej\n",
    "    dla różnych wyznaczników oraz tolerancji \n",
    "    \n",
    "    Args:\n",
    "        points:    punkty skwalifikowane względem prostej \n",
    "        det1:      wyznacznik, dla którego chcemy\n",
    "                   porównywać różnicę w wyniku \n",
    "        det2:      drugi wyznacznik, dla którego chcemy\n",
    "                   porównywać różnicę w wyniku\n",
    "        tolerance: tolerancja dla zera, z jaką powstawały\n",
    "                   wyniki      \n",
    "    Returns:\n",
    "        Punkty, które zostały inaczej skwalifikowane przy\n",
    "        różnych wyznacznikach\n",
    "    '''\n",
    "\n",
    "    raise Exception(\"Unimplemented\")\n",
    "\n",
    "    return ..."
   ]
  },
  {
   "cell_type": "code",
   "execution_count": null,
   "metadata": {},
   "outputs": [],
   "source": [
    "def print_amount_of_diff_points(points):\n",
    "    '''\n",
    "    Wypisywanie różnic w punktach dla wyznaczników \n",
    "    \n",
    "    Args:\n",
    "        points:    punkty skwalifikowane względem prostej \n",
    "    '''    \n",
    "    \n",
    "    # TODO: możliwa wizualizacja wszystkich różnic na jednym wykresie (coś jak slajdy w wizualizacji)\n",
    "\n",
    "    for i, epsilon in enumerate(EPSILONS):\n",
    "        diff_points = different_points(points, DET2X2, NP_DET2X2, i)\n",
    "        print(\"Own determinant 2x2 and numpy 2x2 - epsilon: {} amount of different points: {}\".format(epsilon, len(diff_points)))\n",
    "\n",
    "        diff_points = different_points(points, DET3X3, NP_DET3X3, i)\n",
    "        print(\"Own determinant 3x3 and numpy 3x3 - epsilon: {} amount of different points: {}\".format(epsilon, len(diff_points)))\n",
    "\n",
    "        diff_points = different_points(points, DET2X2, NP_DET3X3, i)\n",
    "        print(\"Own determinant 2x2 and numpy 3x3 - epsilon: {} amount of different points: {}\".format(epsilon, len(diff_points)))\n",
    "\n",
    "        diff_points = different_points(points, DET3X3, NP_DET2X2, i)\n",
    "        print(\"Own determinant 3x3 and numpy 2x2 - epsilon: {} amount of different points: {}\".format(epsilon, len(diff_points)))\n",
    "\n",
    "        diff_points = different_points(points, DET2X2, DET3X3, i)\n",
    "        print(\"Own determinant 2x2 and 3x3 - epsilon: {} amount of different points: {}\".format(epsilon, len(diff_points)))\n",
    "\n",
    "        diff_points = different_points(points, NP_DET2X2, NP_DET3X3, i)\n",
    "        print(\"Numpy 2x2 and 3x3 - epsilon: {} amount of different points: {}\\n\\n\".format(epsilon, len(diff_points)))"
   ]
  },
  {
   "attachments": {},
   "cell_type": "markdown",
   "metadata": {},
   "source": [
    "Różnica w klasyfikacji punktów dla zestawu I"
   ]
  },
  {
   "cell_type": "code",
   "execution_count": null,
   "metadata": {},
   "outputs": [],
   "source": [
    "diff_points_a = different_points(class_points_a)\n",
    "print_amount_of_diff_points(diff_points_a)"
   ]
  },
  {
   "attachments": {},
   "cell_type": "markdown",
   "metadata": {},
   "source": [
    "Różnica w klasyfikacji punktów dla zestawu II"
   ]
  },
  {
   "cell_type": "code",
   "execution_count": null,
   "metadata": {},
   "outputs": [],
   "source": [
    "diff_points_b = different_points(class_points_b)\n",
    "print_amount_of_diff_points(diff_points_b)"
   ]
  },
  {
   "attachments": {},
   "cell_type": "markdown",
   "metadata": {},
   "source": [
    "Różnica w klasyfikacji punktów dla zestawu III"
   ]
  },
  {
   "cell_type": "code",
   "execution_count": null,
   "metadata": {},
   "outputs": [],
   "source": [
    "diff_points_c = different_points(class_points_c)\n",
    "print_amount_of_diff_points(diff_points_c)"
   ]
  },
  {
   "attachments": {},
   "cell_type": "markdown",
   "metadata": {},
   "source": [
    "Różnica w klasyfikacji punktów dla zestawu IV"
   ]
  },
  {
   "cell_type": "code",
   "execution_count": null,
   "metadata": {},
   "outputs": [],
   "source": [
    "diff_points_d = different_points(class_points_d)\n",
    "print_amount_of_diff_points(diff_points_d)"
   ]
  },
  {
   "attachments": {},
   "cell_type": "markdown",
   "metadata": {},
   "source": [
    "Po zobaczeniu jak punkty rozkładają się względem prostej dla różnych zestawów punktów, czas na sprawdzenie co się stanie gdy zmniejszymy precyzję obliczeń. W tym celu zastosujemy ```numpy.float32```"
   ]
  },
  {
   "attachments": {},
   "cell_type": "markdown",
   "metadata": {},
   "source": [
    "<span style=\"color:red\">Ćw.</span> Zmień zestawy punktów na mniejszą precyzję obliczeń."
   ]
  },
  {
   "attachments": {},
   "cell_type": "markdown",
   "metadata": {},
   "source": [
    "Zestaw punktów I z mniejszą precyzją obliczeń"
   ]
  },
  {
   "cell_type": "code",
   "execution_count": null,
   "metadata": {},
   "outputs": [],
   "source": [
    "points_a_32 = ..."
   ]
  },
  {
   "cell_type": "code",
   "execution_count": null,
   "metadata": {},
   "outputs": [],
   "source": [
    "# WIZUALIZACJA"
   ]
  },
  {
   "attachments": {},
   "cell_type": "markdown",
   "metadata": {},
   "source": [
    "Zestaw punktów II z mniejszą precyzją obliczeń"
   ]
  },
  {
   "cell_type": "code",
   "execution_count": null,
   "metadata": {},
   "outputs": [],
   "source": [
    "points_b_32 = ..."
   ]
  },
  {
   "cell_type": "code",
   "execution_count": 2,
   "metadata": {},
   "outputs": [],
   "source": [
    "# WIZUALIZACJA"
   ]
  },
  {
   "attachments": {},
   "cell_type": "markdown",
   "metadata": {},
   "source": [
    "Zestaw punktów III z mniejszą precyzją obliczeń"
   ]
  },
  {
   "cell_type": "code",
   "execution_count": null,
   "metadata": {},
   "outputs": [],
   "source": [
    "points_c_32 = ..."
   ]
  },
  {
   "cell_type": "code",
   "execution_count": null,
   "metadata": {},
   "outputs": [],
   "source": [
    "# WIZUALIZACJA"
   ]
  },
  {
   "attachments": {},
   "cell_type": "markdown",
   "metadata": {},
   "source": [
    "Zestaw punktów IV z mniejszą precyzją obliczeń"
   ]
  },
  {
   "cell_type": "code",
   "execution_count": null,
   "metadata": {},
   "outputs": [],
   "source": [
    "points_d_32 = ..."
   ]
  },
  {
   "cell_type": "code",
   "execution_count": null,
   "metadata": {},
   "outputs": [],
   "source": [
    "# WIZUALIZACJA"
   ]
  },
  {
   "attachments": {},
   "cell_type": "markdown",
   "metadata": {},
   "source": [
    "Klasyfikacja punktów typu ```numpy.float32```"
   ]
  },
  {
   "attachments": {},
   "cell_type": "markdown",
   "metadata": {},
   "source": [
    "Zestaw punktów I"
   ]
  },
  {
   "cell_type": "code",
   "execution_count": null,
   "metadata": {},
   "outputs": [],
   "source": [
    "class_points_a_32 = points_classification(points_a_32)\n",
    "for det in range(len(DETS)):\n",
    "    print_classification(class_points_a_32, det)"
   ]
  },
  {
   "attachments": {},
   "cell_type": "markdown",
   "metadata": {},
   "source": [
    "Zestaw punktów II"
   ]
  },
  {
   "cell_type": "code",
   "execution_count": null,
   "metadata": {},
   "outputs": [],
   "source": [
    "class_points_b_32 = points_classification(points_b_32)\n",
    "for det in range(len(DETS)):\n",
    "    print_classification(class_points_b_32, det)"
   ]
  },
  {
   "attachments": {},
   "cell_type": "markdown",
   "metadata": {},
   "source": [
    "Zestaw punktów III"
   ]
  },
  {
   "cell_type": "code",
   "execution_count": null,
   "metadata": {},
   "outputs": [],
   "source": [
    "class_points_c_32 = points_classification(points_c_32)\n",
    "for det in range(len(DETS)):\n",
    "    print_classification(class_points_c_32, det)"
   ]
  },
  {
   "attachments": {},
   "cell_type": "markdown",
   "metadata": {},
   "source": [
    "Zestaw punktów IV"
   ]
  },
  {
   "cell_type": "code",
   "execution_count": null,
   "metadata": {},
   "outputs": [],
   "source": [
    "class_points_d_32 = points_classification(points_d_32)\n",
    "for det in range(len(DETS)):\n",
    "    print_classification(class_points_d_32, det)"
   ]
  },
  {
   "attachments": {},
   "cell_type": "markdown",
   "metadata": {},
   "source": [
    "Porównanie klasyfikacji punktów typu ```numpy.float32```"
   ]
  },
  {
   "attachments": {},
   "cell_type": "markdown",
   "metadata": {},
   "source": [
    "Zestaw punktów I"
   ]
  },
  {
   "cell_type": "code",
   "execution_count": null,
   "metadata": {},
   "outputs": [],
   "source": [
    "diff_points_a_32 = different_points(class_points_a_32)\n",
    "print_amount_of_diff_points(diff_points_a_32)"
   ]
  },
  {
   "attachments": {},
   "cell_type": "markdown",
   "metadata": {},
   "source": [
    "Zestaw punktów II"
   ]
  },
  {
   "cell_type": "code",
   "execution_count": null,
   "metadata": {},
   "outputs": [],
   "source": [
    "diff_points_b_32 = different_points(class_points_b_32)\n",
    "print_amount_of_diff_points(diff_points_b_32)"
   ]
  },
  {
   "attachments": {},
   "cell_type": "markdown",
   "metadata": {},
   "source": [
    "Zestaw punktów III"
   ]
  },
  {
   "cell_type": "code",
   "execution_count": null,
   "metadata": {},
   "outputs": [],
   "source": [
    "diff_points_c_32 = different_points(class_points_c_32)\n",
    "print_amount_of_diff_points(diff_points_c_32)"
   ]
  },
  {
   "attachments": {},
   "cell_type": "markdown",
   "metadata": {},
   "source": [
    "Zestaw punktów IV"
   ]
  },
  {
   "cell_type": "code",
   "execution_count": null,
   "metadata": {},
   "outputs": [],
   "source": [
    "diff_points_d_32 = different_points(class_points_d_32)\n",
    "print_amount_of_diff_points(diff_points_d_32)"
   ]
  },
  {
   "cell_type": "code",
   "execution_count": null,
   "metadata": {},
   "outputs": [],
   "source": [
    "# TODO: Gdzieś może po drodze wizualizacja punktów które różnią się od siebie"
   ]
  }
 ],
 "metadata": {
  "kernelspec": {
   "display_name": "Python 3 (ipykernel)",
   "language": "python",
   "name": "python3"
  },
  "language_info": {
   "codemirror_mode": {
    "name": "ipython",
    "version": 3
   },
   "file_extension": ".py",
   "mimetype": "text/x-python",
   "name": "python",
   "nbconvert_exporter": "python",
   "pygments_lexer": "ipython3",
   "version": "3.11.3"
  },
  "orig_nbformat": 4
 },
 "nbformat": 4,
 "nbformat_minor": 2
}
