{
 "cells": [
  {
   "cell_type": "markdown",
   "source": [
    "# Algorytmy geometryczne, ćwiczenie 1\n",
    "### Celem tego ćwiczenia będzie poznanie narzędzia do wizualizacji, implementacja podstawowych\n",
    "### predykatów geometrycznych i opracowanie wyników"
   ],
   "metadata": {
    "collapsed": false
   },
   "id": "fa886c147a8819ba"
  },
  {
   "cell_type": "code",
   "execution_count": 4,
   "id": "initial_id",
   "metadata": {
    "collapsed": true,
    "ExecuteTime": {
     "end_time": "2023-07-30T03:59:59.410264700Z",
     "start_time": "2023-07-30T03:59:59.400129200Z"
    }
   },
   "outputs": [],
   "source": [
    "import numpy as np\n",
    "import pandas as pd\n",
    "import matplotlib.pyplot as plt\n",
    "# from bitalg.tests.test1 import Test\n",
    "# from bitalg.visualizer.main import Visualizer"
   ]
  },
  {
   "cell_type": "markdown",
   "source": [
    "# Przydatne funkcje "
   ],
   "metadata": {
    "collapsed": false
   },
   "id": "cbfae62ba15fd565"
  },
  {
   "cell_type": "code",
   "execution_count": 72,
   "outputs": [],
   "source": [
    "def draw_example_1():\n",
    "    # TODO narysowac to uzywając naszego narzędzia do wizualizacji\n",
    "    plt.plot([0, 10], [2, 7])\n",
    "    plt.plot(4, 4, marker=\".\", markersize=13, color=\"green\")\n",
    "    plt.plot(6, 6, marker=\".\", markersize=13, color=\"red\")\n",
    "    plt.plot(7, 4, marker=\".\", markersize=13, color=\"purple\")\n",
    "    plt.show()\n"
   ],
   "metadata": {
    "collapsed": false,
    "ExecuteTime": {
     "end_time": "2023-07-30T04:47:00.898175Z",
     "start_time": "2023-07-30T04:47:00.890947100Z"
    }
   },
   "id": "ff6fad965efebe34"
  },
  {
   "cell_type": "markdown",
   "source": [
    "# Ćwiczenie nr 1. Po jakiej stronie prostej znajduje się punkt?\n",
    "### Bardzo często będzie sytuacja podczas której będziemy potrzebowali znać orientacje punktu względem jakiejś prostej\n",
    "### W jaki sposób można to zrobić?\n"
   ],
   "metadata": {
    "collapsed": false
   },
   "id": "4270f115a297abc2"
  },
  {
   "cell_type": "code",
   "execution_count": 73,
   "outputs": [
    {
     "data": {
      "text/plain": "<Figure size 700x350 with 1 Axes>",
      "image/png": "[encoded data removed]"
     },
     "metadata": {},
     "output_type": "display_data"
    }
   ],
   "source": [
    "draw_example_1()"
   ],
   "metadata": {
    "collapsed": false,
    "ExecuteTime": {
     "end_time": "2023-07-30T04:53:02.192328600Z",
     "start_time": "2023-07-30T04:53:02.065190100Z"
    }
   },
   "id": "1a84dfeef425e634"
  },
  {
   "cell_type": "markdown",
   "source": [
    "### Okazuje się, że można do tego wykorzystać wyznacznik macierzy\n",
    "### punkty a i b to dowolne punkty należące do naszej prostej (UWAGA kolejność punktów ma znaczenie!)\n",
    "### punkt c to punkt, którego położenie względem prostej chcemy znaleźć\n",
    "$$\n",
    "{\\LARGE\n",
    "\\begin{vmatrix}\n",
    "  a_{x} & a_{y} & 1 \\\\\n",
    "  b_{x} & b_{y} & 1 \\\\\n",
    "  c_{x} & c_{y} & 1 \\\\\n",
    "\\end{vmatrix}\n",
    "= \\det\n",
    "\\begin{pmatrix}\n",
    "  a_{x} & a_{y} & 1 \\\\\n",
    "  b_{x} & b_{y} & 1 \\\\\n",
    "  c_{x} & c_{y} & 1 \\\\\n",
    "\\end{pmatrix}\n",
    "}\n",
    "$$\n",
    "\n",
    "### Jeśli wyznacznik jest większy od 0, wtedy punkt znajduje się na lewo od wektora który jest tworzony przez punkty a, b\n",
    "### Jeśli wyznacznik jest równy 0, wtedy punkt znajduje się na naszej prostej\n",
    "### Jeśli wyznacznik jest mniejszy od 0, wtedy punkt znajduje się na prawo od wektora który jest tworzony przez punkty a, b\n"
   ],
   "metadata": {
    "collapsed": false
   },
   "id": "e74885c9547b8a76"
  },
  {
   "cell_type": "markdown",
   "source": [
    "### Uzupełnij funkcje mat_det_3x3, która przyjmuje punkty a, b, c przedstawione w postaci krotki dwuelementowej posiadającej współrzędne x, y naszego punktu\n",
    "### Funkcja ma zwracać wyznacznik macierzy"
   ],
   "metadata": {
    "collapsed": false
   },
   "id": "ee1c7d704f2a83e2"
  },
  {
   "cell_type": "code",
   "execution_count": 74,
   "outputs": [],
   "source": [
    "def mat_det_3x3(a, b, c):\n",
    "    raise \"Unimplemented\""
   ],
   "metadata": {
    "collapsed": false,
    "ExecuteTime": {
     "end_time": "2023-07-30T05:24:53.500812900Z",
     "start_time": "2023-07-30T05:24:53.491880700Z"
    }
   },
   "id": "2e262c4b6df7dd18"
  },
  {
   "cell_type": "markdown",
   "source": [
    "### Można też wykorzystać wyznacznik takiej macierzy:\n",
    "$$\n",
    "{\\LARGE\n",
    "\\begin{vmatrix}\n",
    "  a_{x} & a_{y} & 1 \\\\\n",
    "  b_{x} & b_{y} & 1 \\\\\n",
    "  c_{x} & c_{y} & 1 \\\\\n",
    "\\end{vmatrix}\n",
    "= \\det\n",
    "\\begin{pmatrix}\n",
    "  a_{x} - c_{x} & a_{y} - c_{y} \\\\\n",
    "  b_{x} - c_{x} & b_{y} - c_{y} \\\\\n",
    "\\end{pmatrix}\n",
    "}\n",
    "$$"
   ],
   "metadata": {
    "collapsed": false
   },
   "id": "a4874c8d64e55b5b"
  },
  {
   "cell_type": "markdown",
   "source": [
    "### Uzupełnij funkcje mat_det_2x2, która przyjmuje punkty a, b, c przedstawione w postaci krotki dwuelementowej posiadającej współrzędne x, y naszego punktu\n",
    "### Funkcja ma zwracać wyznacznik macierzy"
   ],
   "metadata": {
    "collapsed": false
   },
   "id": "667a3975f6038b30"
  },
  {
   "cell_type": "code",
   "execution_count": 76,
   "outputs": [],
   "source": [
    "def mat_det_2x2(a, b, c):\n",
    "    raise \"Unimplemented\""
   ],
   "metadata": {
    "collapsed": false,
    "ExecuteTime": {
     "end_time": "2023-07-30T05:31:39.676320300Z",
     "start_time": "2023-07-30T05:31:39.668265800Z"
    }
   },
   "id": "a9f855b43b4606a1"
  },
  {
   "cell_type": "markdown",
   "source": [
    "### Przetestujmy napisane wyżej funkcje"
   ],
   "metadata": {
    "collapsed": false
   },
   "id": "e5d3d66202327992"
  },
  {
   "cell_type": "code",
   "execution_count": 105,
   "outputs": [],
   "source": [
    "# test mat_det_3x3"
   ],
   "metadata": {
    "collapsed": false,
    "ExecuteTime": {
     "end_time": "2023-07-30T06:08:39.769453400Z",
     "start_time": "2023-07-30T06:08:39.756426500Z"
    }
   },
   "id": "561a20f1bf3ad08a"
  },
  {
   "cell_type": "code",
   "execution_count": 106,
   "outputs": [],
   "source": [
    "# test mat_det_2x2"
   ],
   "metadata": {
    "collapsed": false,
    "ExecuteTime": {
     "end_time": "2023-07-30T06:08:40.141033200Z",
     "start_time": "2023-07-30T06:08:40.133529300Z"
    }
   },
   "id": "d99b0ba40946b36a"
  },
  {
   "cell_type": "markdown",
   "source": [
    "### Aby móc później zobaczyć w praktyce jak to działa potrzebujemy jeszcze zbiorów punktów"
   ],
   "metadata": {
    "collapsed": false
   },
   "id": "64547f9c626a394"
  },
  {
   "cell_type": "markdown",
   "source": [
    "## Uzupełnij funkcję generate_uniform_points generującą n punktów o współrzędnych rzeczywistych. \n",
    "## Funkcja przyjmuje parametry:\n",
    "- left  - początek przedziału \n",
    "- right - koniec przedziału \n",
    "- n - ilość generowanych punktów\n",
    "\n",
    "Funkcja zwraca tablicę punktów w postaci krotek współrzędnych\n",
    "(funkcja biblioteczna numpy.random.uniform może okazać się przydatna)"
   ],
   "metadata": {
    "collapsed": false
   },
   "id": "73221e121c0e940d"
  },
  {
   "cell_type": "code",
   "execution_count": 108,
   "outputs": [],
   "source": [
    "def generate_uniform_points(left, right, n = 10 ** 5):\n",
    "    raise \"Unimplemented\""
   ],
   "metadata": {
    "collapsed": false,
    "ExecuteTime": {
     "end_time": "2023-07-30T06:12:59.956635Z",
     "start_time": "2023-07-30T06:12:59.948835100Z"
    }
   },
   "id": "64d926fc7cf687a2"
  },
  {
   "cell_type": "markdown",
   "source": [
    "### Uruchom wizualizację graficzną utworzonego zbioru punktów (tutaj dopiszemy jakiś szkic jak będzie narzędzie + może mini tutorial narzędzia wcześniej???)"
   ],
   "metadata": {
    "collapsed": false
   },
   "id": "62d9cb7f824bb07e"
  },
  {
   "cell_type": "markdown",
   "source": [],
   "metadata": {
    "collapsed": false
   },
   "id": "9967d6edd9ac429a"
  },
  {
   "cell_type": "markdown",
   "source": [
    "## Uzupełnij funkcję generate_circle_points generującą n punktów na okręgu o środku w punkcie (0,0) i promieniu r.\n",
    "## Funkcja przyjmuje parametry:\n",
    "- r - długość promienia\n",
    "- n - ilość generowanych punktów\n",
    "\n",
    "Funkcja zwraca tablicę punktów w postaci krotek współrzędnych"
   ],
   "metadata": {
    "collapsed": false
   },
   "id": "3a65b9cef25a4708"
  },
  {
   "cell_type": "code",
   "execution_count": 107,
   "outputs": [],
   "source": [
    "def generate_circle_points(r, n = 100):\n",
    "    raise \"Unimplemented\""
   ],
   "metadata": {
    "collapsed": false,
    "ExecuteTime": {
     "end_time": "2023-07-30T06:12:58.414911500Z",
     "start_time": "2023-07-30T06:12:58.402862900Z"
    }
   },
   "id": "604dc2fe4c18f7c5"
  },
  {
   "cell_type": "markdown",
   "source": [],
   "metadata": {
    "collapsed": false
   },
   "id": "8f390686182c9906"
  },
  {
   "cell_type": "markdown",
   "source": [
    "### Uruchom wizualizację graficzną utworzonego zbioru punktów (tutaj dopiszemy jakiś szkic jak będzie narzędzie + może mini tutorial narzędzia wcześniej???)"
   ],
   "metadata": {
    "collapsed": false
   },
   "id": "c69214f78dc60db7"
  },
  {
   "cell_type": "markdown",
   "source": [
    "## Uzupełnij funkcję generate_collinear_points generującą n punktów na prostej wyznaczonej przez punkty a, b.\n",
    "## Funkcja przyjmuje parametry:\n",
    "- a, b - punkty w postaci krotek współrzędnych\n",
    "- n - ilość generowanych punktów\n",
    "\n",
    "Funkcja zwraca tablicę punktów w postaci krotek współrzędnych"
   ],
   "metadata": {
    "collapsed": false
   },
   "id": "b0ef557917a99ff3"
  },
  {
   "cell_type": "code",
   "execution_count": 109,
   "outputs": [],
   "source": [
    "def generate_collinear_points(r, n = 100):\n",
    "    raise \"Unimplemented\""
   ],
   "metadata": {
    "collapsed": false,
    "ExecuteTime": {
     "end_time": "2023-07-30T06:27:46.195820700Z",
     "start_time": "2023-07-30T06:27:46.172824300Z"
    }
   },
   "id": "8ce6e770e635ff5a"
  },
  {
   "cell_type": "markdown",
   "source": [
    "### Uruchom wizualizację graficzną utworzonego zbioru punktów (tutaj dopiszemy jakiś szkic jak będzie narzędzie + może mini tutorial narzędzia wcześniej???)"
   ],
   "metadata": {
    "collapsed": false
   },
   "id": "9d13138848fa9ccf"
  },
  {
   "cell_type": "markdown",
   "source": [
    "## Uzupełnij funkcję, która skategoryzuje dany zbiór punktów względem prostej wyznaczonej przez punkty a, b i zwizualizuje to.\n",
    "## Funkcja przyjmuje parametry:\n",
    "- points - teblica punktów w postaci krotek współrzednych\n",
    "- a, b - punkty w postaci krotek współrzędnych\n",
    "- mat_det_func - funkcja używana do obliczania wyznacznika macierzy\n",
    "- eps - epsilon - jak blisko wyznacznik macierzy ma być blisko zera, aby uznać punkt za leżący na prostej\n",
    "\n",
    "Jak myślisz, dlaczego potrzebujemy tutaj eps?"
   ],
   "metadata": {
    "collapsed": false
   },
   "id": "62ad95294b6fed0e"
  },
  {
   "cell_type": "code",
   "execution_count": null,
   "outputs": [],
   "source": [
    "def categorize_and_visualize(points, a, b, mat_det_func, eps = 10 ** -8):\n",
    "    raise \"Unimplemented\""
   ],
   "metadata": {
    "collapsed": false
   },
   "id": "6f0c41443ecf44de"
  },
  {
   "cell_type": "markdown",
   "source": [],
   "metadata": {
    "collapsed": false
   },
   "id": "13305828049b956f"
  },
  {
   "cell_type": "markdown",
   "source": [
    " ## Przetestuj powyższą funkcję na wygenerowanych wcześniej zbiorów punktów. Dla dodatkowych testów użyj bibliotecznych funkcji na obliczanie wyznacznika macierzy (na przykład np.linalg.det) (tutaj jest problem, bo funkcja przyjmuje macierz, a wcześniej moja przyjmuje punkty, trzeba to zmienić, ale nie wiem jak, żeby nie stracić na czytelności)"
   ],
   "metadata": {
    "collapsed": false
   },
   "id": "91af0a43deb70557"
  },
  {
   "cell_type": "code",
   "execution_count": null,
   "outputs": [],
   "source": [
    "# tu będzie milion testowań"
   ],
   "metadata": {
    "collapsed": false
   },
   "id": "2f2cd5a547bff53"
  },
  {
   "cell_type": "markdown",
   "source": [
    "# Wnioski:"
   ],
   "metadata": {
    "collapsed": false
   },
   "id": "ff34acc06f9bddf"
  },
  {
   "cell_type": "markdown",
   "source": [],
   "metadata": {
    "collapsed": false
   },
   "id": "38b5dccb67212417"
  }
 ],
 "metadata": {
  "kernelspec": {
   "display_name": "Python 3",
   "language": "python",
   "name": "python3"
  },
  "language_info": {
   "codemirror_mode": {
    "name": "ipython",
    "version": 2
   },
   "file_extension": ".py",
   "mimetype": "text/x-python",
   "name": "python",
   "nbconvert_exporter": "python",
   "pygments_lexer": "ipython2",
   "version": "2.7.6"
  }
 },
 "nbformat": 4,
 "nbformat_minor": 5
}
