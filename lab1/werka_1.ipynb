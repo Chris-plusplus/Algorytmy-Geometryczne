{
 "cells": [
  {
   "cell_type": "code",
   "execution_count": 17,
   "metadata": {},
   "outputs": [],
   "source": [
    "import numpy as np\n",
    "import pandas as pd\n",
    "import matplotlib.pyplot as plt\n",
    "#from bitalg.tests.test1 import Test\n",
    "#from bitalg.visualizer.main import Visualizer"
   ]
  },
  {
   "cell_type": "markdown",
   "metadata": {},
   "source": [
    "# Ćwiczenie 1\n",
    "***"
   ]
  },
  {
   "cell_type": "markdown",
   "metadata": {},
   "source": [
    "### Wprowadzenie <br>\n",
    "<font size=\"4\">Celem ćwiczenia jest sprawdzenie po której stronie prostej przechodzącej przez punkty a=[-1.0;0.0] i b=[1.0;0.1] znajduje się punkt testowy c. Do tego celu należy wyliczyć wyznacznik det(a,b,c) za pomocą podanych poniżej wzorów, oraz przeprowadzić testy poprawności zaimplementowanego algorytmu. Ćwiczenie należy powtórzyć dla różnych toleracji zera.</font>"
   ]
  },
  {
   "cell_type": "markdown",
   "metadata": {},
   "source": [
    "* Wzór 1:  \n",
    "\\begin{equation}\n",
    "det(a,b,c)= \\begin{vmatrix}\n",
    "   a_x & a_y & 1\\\\\n",
    "   b_x & b_y & 1\\\\\n",
    "   c_x & c_y & 1\n",
    "   \\end{vmatrix}\n",
    "\\end{equation}"
   ]
  },
  {
   "cell_type": "markdown",
   "metadata": {},
   "source": [
    "* Wzór 2:  \n",
    "\\begin{equation}\n",
    "det(a,b,c)= \\begin{vmatrix}\n",
    "   a_x-c_x & a_y-c_y \\\\\n",
    "   b_x-c_x & b_y-c_y \n",
    "   \\end{vmatrix}\n",
    "\\end{equation}"
   ]
  },
  {
   "cell_type": "code",
   "execution_count": 40,
   "metadata": {},
   "outputs": [
    {
     "data": {
      "image/png": "[encoded data removed]",
      "text/plain": [
       "<Figure size 640x480 with 1 Axes>"
      ]
     },
     "metadata": {},
     "output_type": "display_data"
    }
   ],
   "source": [
    "# Wizualizacja prostej i przykładowego punktu\n",
    "a=[-1.0,0.0]\n",
    "b=[1.0,0.1]\n",
    "x=[a[0],b[0]]\n",
    "y=[a[1],b[1]]\n",
    "plt.plot(x,y)\n",
    "plt.xlim(0,1)\n",
    "plt.ylim(0,1)\n",
    "plt.plot([0.2,0.6],[0.8,0.05],\"o\")\n",
    "plt.show()"
   ]
  },
  {
   "cell_type": "markdown",
   "metadata": {},
   "source": [
    "***"
   ]
  },
  {
   "cell_type": "markdown",
   "metadata": {},
   "source": [
    "### Zadanie 1 - Zbiory punktów testowych\n",
    "#### Przygotuj następujące zbiory punktów testowych. Punkty mają być dwuwymiarowe, ???. Do tego celu uzupełnij funkcje <font color=\"orange\"> fun_dane </font>.\n"
   ]
  },
  {
   "cell_type": "markdown",
   "metadata": {},
   "source": [
    "<font size=\"4.5\">a) </font>$ 10^5 $<font size=\"4.5\"> losowych punktów o współrzędnych z przedziału [-1000,1000]</font>\n",
    " "
   ]
  },
  {
   "cell_type": "code",
   "execution_count": null,
   "metadata": {},
   "outputs": [],
   "source": [
    "def fun_dane_a():\n",
    "    # dane_a = ???\n",
    "\n",
    "    return "
   ]
  },
  {
   "cell_type": "code",
   "execution_count": null,
   "metadata": {},
   "outputs": [],
   "source": [
    "dane_a=fun_dane_a()"
   ]
  },
  {
   "cell_type": "code",
   "execution_count": null,
   "metadata": {},
   "outputs": [],
   "source": [
    "# Wizualizacja ???"
   ]
  },
  {
   "cell_type": "markdown",
   "metadata": {},
   "source": [
    "<font size=\"4.5\">b) </font>$ 10^5 $<font size=\"4.5\"> losowych punktów o współrzędnych z przedziału </font>[$ -10^{14},10^{14} $]"
   ]
  },
  {
   "cell_type": "code",
   "execution_count": null,
   "metadata": {},
   "outputs": [],
   "source": [
    "def fun_dane_b():\n",
    "    # dane_b = ???\n",
    "\n",
    "    return "
   ]
  },
  {
   "cell_type": "code",
   "execution_count": null,
   "metadata": {},
   "outputs": [],
   "source": [
    "dane_b = fun_dane_b()"
   ]
  },
  {
   "cell_type": "code",
   "execution_count": null,
   "metadata": {},
   "outputs": [],
   "source": [
    "# Wizualizacja ???"
   ]
  },
  {
   "cell_type": "markdown",
   "metadata": {},
   "source": [
    "<font size=\"4.5\">c) 1000 losowych punktów leżących na okręgu o środku (0,0) i promieniu R = 100 </font>"
   ]
  },
  {
   "cell_type": "code",
   "execution_count": null,
   "metadata": {},
   "outputs": [],
   "source": [
    "def fun_dane_c():\n",
    "    # dane_c = ???\n",
    "\n",
    "    return "
   ]
  },
  {
   "cell_type": "code",
   "execution_count": null,
   "metadata": {},
   "outputs": [],
   "source": [
    "dane_c = fun_dane_c()"
   ]
  },
  {
   "cell_type": "code",
   "execution_count": null,
   "metadata": {},
   "outputs": [],
   "source": [
    "# Wizualizacja ???"
   ]
  },
  {
   "cell_type": "markdown",
   "metadata": {},
   "source": [
    "<font size=\"4.5\">d) 1000 losowych punktów o współrzędnych z przedziału [-1000,1000] leżących na prostej przechodzącej przez punkty a=[-1.0,0.0] i b=[1.0,0.1]</font>"
   ]
  },
  {
   "cell_type": "code",
   "execution_count": null,
   "metadata": {},
   "outputs": [],
   "source": [
    "def fun_dane_d():\n",
    "    # dane_d = ???\n",
    "\n",
    "    return "
   ]
  },
  {
   "cell_type": "code",
   "execution_count": null,
   "metadata": {},
   "outputs": [],
   "source": [
    "dane_d = fun_dane_d()"
   ]
  },
  {
   "cell_type": "code",
   "execution_count": null,
   "metadata": {},
   "outputs": [],
   "source": [
    "# Wizualizacja ???"
   ]
  },
  {
   "cell_type": "markdown",
   "metadata": {},
   "source": [
    "***"
   ]
  },
  {
   "cell_type": "markdown",
   "metadata": {},
   "source": [
    "## Zadanie 2 - Obliczanie wyznacznika macierzy \n",
    "<font size=\"4.5\"> Uzupełnij funkcje <font color=\"orange\"> fun_wzór_1 </font> i <font color=\"orange\"> fun_wzór_2 </font>  obliczające wyznacznik macierzy za pomocą wzoru nr.1 i nr.2. Poprawność funkcji możesz sprawdzić za pomocą dołączonych testów. </font>\n"
   ]
  },
  {
   "cell_type": "code",
   "execution_count": null,
   "metadata": {},
   "outputs": [],
   "source": [
    "# Funkcja dla wzoru 1\n",
    "def fun_wzór_1(a,b,c):\n",
    "\n",
    "    return"
   ]
  },
  {
   "cell_type": "code",
   "execution_count": null,
   "metadata": {},
   "outputs": [],
   "source": [
    "# Funkcja dla wzoru 2\n",
    "def fun_wzór_2(a,b,c):\n",
    "\n",
    "    return"
   ]
  },
  {
   "cell_type": "code",
   "execution_count": null,
   "metadata": {},
   "outputs": [],
   "source": [
    "# Test poprawności\n"
   ]
  },
  {
   "cell_type": "markdown",
   "metadata": {},
   "source": [
    "***"
   ]
  },
  {
   "cell_type": "markdown",
   "metadata": {},
   "source": [
    "## Zadanie 3 - Położenie\n",
    "<font size=\"4.5\"> Uzupełnij funkcje obliczające wyznaczniki macierzy <font color=\"orange\"> fun_wyzniaczniki_1 </font> dla wzoru pierwszego, oraz <font color=\"orange\"> fun_wyzniaczniki_2 </font> dla wzoru drugiego. W każdej z funkcji zwróć tablicę w której _i-ta_ wartość odpowiada wyznacznikowi _i-tego_ elementu.</font>"
   ]
  },
  {
   "cell_type": "code",
   "execution_count": null,
   "metadata": {},
   "outputs": [],
   "source": [
    "# Wyznacznik macierzy ze wzoru pierwszego\n",
    "def fun_wyznaczniki_1(a,b,dane):\n",
    "\n",
    "    return"
   ]
  },
  {
   "cell_type": "code",
   "execution_count": null,
   "metadata": {},
   "outputs": [],
   "source": [
    "# Wyznacznik macierzy ze wzoru drugiego\n",
    "def fun_wyznaczniki_2(a,b,dane):\n",
    "\n",
    "    return"
   ]
  },
  {
   "cell_type": "markdown",
   "metadata": {},
   "source": [
    "<font size=\"4.5\"> Poniżej znajduje się wskaźnik tolerancji dla zera. Uzupełnij funkcję <font color=\"orange\"> fun_położenie </font> ,która w zależności od wartości wyznacznika i podanej tolerancji określi położenie punktu w stosunku do prostej podanej w zadaniu. Do funkcji należy przekazać zbiór wyznaczników, powinna ona zwrócić zbiór położeń.</font>"
   ]
  },
  {
   "cell_type": "code",
   "execution_count": null,
   "metadata": {},
   "outputs": [],
   "source": [
    "# Wskaźnik tolerancji\n",
    "tolerancja = 0"
   ]
  },
  {
   "cell_type": "code",
   "execution_count": null,
   "metadata": {},
   "outputs": [],
   "source": [
    "# Funkcja określająca położenie\n",
    "def fun_położenie(wyznaczniki,tolerancja):\n",
    "\n",
    "    return"
   ]
  },
  {
   "cell_type": "markdown",
   "metadata": {},
   "source": [
    "<font size=\"4.5\"> Uzupełnij funkcję <font color=\"orange\"> fun_porównanie </font> która porównuje położenie punktów z dwóch zbiorów. Do funkcji należy przekazać dwie tablice położeń. Funkcja powinna wyświetlić ile punktów zostało inaczej zakwalifikowanych i je zwrócić.</font>"
   ]
  },
  {
   "cell_type": "code",
   "execution_count": null,
   "metadata": {},
   "outputs": [],
   "source": [
    "def fun_porównanie(położenie_1,położenie_2):\n",
    "    liczba = 0\n",
    "    \n",
    "    print(liczba)\n",
    "    return"
   ]
  },
  {
   "cell_type": "markdown",
   "metadata": {},
   "source": [
    "<font size=\"4.5\"> Przeprowadź testy poprawności wyżej zaimplementowanych fukncji.</font>"
   ]
  },
  {
   "cell_type": "code",
   "execution_count": null,
   "metadata": {},
   "outputs": [],
   "source": [
    "# Testy"
   ]
  },
  {
   "cell_type": "markdown",
   "metadata": {},
   "source": [
    "***"
   ]
  },
  {
   "cell_type": "markdown",
   "metadata": {},
   "source": [
    "## Zadanie 4 - Porównanie wyników\n",
    "<font size=\"4.5\"> Za pomocą wyżej zaimplementowanych funkcji i wcześniej stworzonych zbiorów sprawdź jak bardzo różnią się wyniki w zależności od wzoru z którego korzystasz. W miejsca <font color=\"orange\">zer</font> wpisz dane które chcesz testować. Modyfikuj wyżej podany wskaźnik tolerancji aby przeprowadzić więcej testów.</font>"
   ]
  },
  {
   "cell_type": "code",
   "execution_count": null,
   "metadata": {},
   "outputs": [],
   "source": [
    "# Miejsce na samodzielne testy\n",
    "wyznaczniki_1=fun_wyznaczniki_1(a,b,0)\n",
    "wyznaczniki_2=fun_wyznaczniki_2(a,b,0)\n",
    "\n",
    "położenie_1=fun_położenie(wyznaczniki_1,tolerancja)\n",
    "położenie_2=fun_położenie(wyznaczniki_2,tolerancja)\n",
    "\n",
    "różnice=fun_porównanie(położenie_1,położenie_2)\n",
    "\n",
    "print(różnice if len(różnice)<21 else różnice[0:20])\n",
    "\n"
   ]
  },
  {
   "cell_type": "markdown",
   "metadata": {},
   "source": [
    "<font size=\"4.5\"> Sporządź sprawozdanie w którym umieścisz wyniki i wnioski z przeprowadzonych testów.</font>"
   ]
  }
 ],
 "metadata": {
  "kernelspec": {
   "display_name": "base",
   "language": "python",
   "name": "python3"
  },
  "language_info": {
   "codemirror_mode": {
    "name": "ipython",
    "version": 3
   },
   "file_extension": ".py",
   "mimetype": "text/x-python",
   "name": "python",
   "nbconvert_exporter": "python",
   "pygments_lexer": "ipython3",
   "version": "3.11.3"
  },
  "orig_nbformat": 4
 },
 "nbformat": 4,
 "nbformat_minor": 2
}
